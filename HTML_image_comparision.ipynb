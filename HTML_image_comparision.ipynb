{
 "cells": [
  {
   "cell_type": "code",
   "execution_count": 5,
   "id": "f076508e-bd5b-4963-b391-592c21c71dba",
   "metadata": {},
   "outputs": [
    {
     "name": "stdin",
     "output_type": "stream",
     "text": [
      "Enter html content here :  <!DOCTYPE html> <html lang=\"en\"> <head>     <meta charset=\"UTF-8\">     <meta name=\"viewport\" content=\"width=device-width, initial-scale=1.0\">     <title>It's My Birthday!</title>     <!-- Link the birthday.css file -->     <link rel=\"stylesheet\" href=\"style.css\"> </head> <body>     <div class=\"container\">         <h1>It's My Birthday!</h1>         <h2>On the 6th March</h2>         <img src=\"https://raw.githubusercontent.com/appbrewery/webdev/main/birthday-cake3.4.jpeg\" alt=\"Happy birthday cake for you.\"/>         <h3>What to bring:</h3>         <ul>             <li>Balloons (I love balloons)</li>             <li>Cake (I'm really good at eating)</li>             <li>An appetite (There will be lots of food)</li>         </ul>         <h3>This is where you need to go:</h3>         <a href=\"https://www.google.com/maps/@35.7040744,139.5577317,3a,75y,289.6h,87.01t,0.72r/data=!3m6!1e1!3m4!1sgT28ssf0BB2LxZ63JNcL1w!2e0!7i13312!8i6656\" >Google map link</a>     </div> </body> </html>\n"
     ]
    },
    {
     "name": "stdout",
     "output_type": "stream",
     "text": [
      "\n",
      "\n",
      "Image Similarity: 0.7699266859917989\n",
      "\n",
      "\n",
      "HTML and image outputs do not match.\n"
     ]
    }
   ],
   "source": [
    "from selenium import webdriver\n",
    "from skimage.metrics import structural_similarity as ssim\n",
    "import cv2\n",
    "import pandas as pd\n",
    "\n",
    "def calculate_image_similarity(html_output_path, expected_output_path):\n",
    "    op_image = cv2.imread(html_output_path)\n",
    "    goal_image =expected_output_path\n",
    "    op_gray = cv2.cvtColor(op_image, cv2.COLOR_BGR2GRAY)\n",
    "    goal_gray = cv2.cvtColor(goal_image, cv2.COLOR_BGR2GRAY)\n",
    "    similarity_score, _ = ssim(op_gray, goal_gray, full=True)\n",
    "    return similarity_score\n",
    "\n",
    "def main():\n",
    "    options = webdriver.ChromeOptions()\n",
    "    options.add_argument('--headless')\n",
    "    driver = webdriver.Chrome(options=options)\n",
    "    \n",
    "    html_content = input(\"Enter html content here : \")\n",
    "\n",
    "    driver.get(\"data:text/html;charset=utf-8,\" + html_content)\n",
    "    driver.set_window_size(1920, 1080)\n",
    "    \n",
    "    html_output_path = r\"C:\\Users\\Pavithran\\Pictures\\Screenshots\\output.png\"\n",
    "    driver.save_screenshot(html_output_path)\n",
    "    driver.quit()\n",
    "    \n",
    "    expected_output_path = cv2.imread(r\"C:\\Users\\Pavithran\\Pictures\\Screenshots\\Screenshot 2024-03-22 170746.png\")\n",
    "    expected_output_path=cv2.resize(expected_output_path,(1920,1080))\n",
    "    image_similarity = calculate_image_similarity(html_output_path, expected_output_path)\n",
    "    print(f\"\\n\\nImage Similarity: {image_similarity}\")\n",
    "    threshold = 0.95\n",
    "\n",
    "    if image_similarity > threshold:\n",
    "        print(\"\\n\\nHTML and image outputs match.\")\n",
    "    else:\n",
    "        print(\"\\n\\nHTML and image outputs do not match.\")\n",
    "\n",
    "if __name__ == \"__main__\":\n",
    "    main()\n"
   ]
  },
  {
   "cell_type": "code",
   "execution_count": null,
   "id": "054b5a94-8821-4d31-a7f5-6e7893bbf6d1",
   "metadata": {},
   "outputs": [],
   "source": []
  }
 ],
 "metadata": {
  "kernelspec": {
   "display_name": "Python 3 (ipykernel)",
   "language": "python",
   "name": "python3"
  },
  "language_info": {
   "codemirror_mode": {
    "name": "ipython",
    "version": 3
   },
   "file_extension": ".py",
   "mimetype": "text/x-python",
   "name": "python",
   "nbconvert_exporter": "python",
   "pygments_lexer": "ipython3",
   "version": "3.12.0"
  }
 },
 "nbformat": 4,
 "nbformat_minor": 5
}
